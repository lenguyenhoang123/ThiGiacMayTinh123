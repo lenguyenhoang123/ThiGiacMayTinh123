{
 "cells": [
  {
   "cell_type": "code",
   "execution_count": 1,
   "id": "4be76de7-ae23-4873-a50e-1ed7668ca618",
   "metadata": {},
   "outputs": [],
   "source": [
    "from PIL import Image\n",
    "import matplotlib.pyplot as plt"
   ]
  },
  {
   "cell_type": "code",
   "execution_count": 19,
   "id": "f7b0b5be-89b0-48d2-90f5-69fd507059ae",
   "metadata": {},
   "outputs": [
    {
     "name": "stdout",
     "output_type": "stream",
     "text": [
      "[(274.3787878787879, 666.8268398268397), (572.474025974026, 653.2770562770561), (799.4329004329005, 754.9004329004329), (860.4069264069266, 964.9220779220777), (775.7207792207793, 531.3290043290042)]\n"
     ]
    }
   ],
   "source": [
    "my_path='C:\\\\ThiGiacMayTinh1\\\\img\\\\anh3.jpg'\n",
    "im=Image.open(my_path)\n",
    "#chuyển đổi backend\n",
    "plt.switch_backend('tkagg')\n",
    "\n",
    "#hiển thị ảnh\n",
    "plt.imshow(im)\n",
    "plt.title(\"Click on the image to select points\")\n",
    "\n",
    "#dùng hàm ginput để chọn điểm ảnh\n",
    "points=plt.ginput(5)\n",
    "print(points)\n",
    "#Hiển thị\n",
    "plt.show()"
   ]
  },
  {
   "cell_type": "code",
   "execution_count": 20,
   "id": "7ab45108-7f01-4c3c-a3e6-cce191214b8f",
   "metadata": {},
   "outputs": [],
   "source": [
    "# vẽ lại các điểm đã chọn bằng dấu * màu đỏ\n",
    "plt.close()\n",
    "#vẽ lại\n",
    "plt.imshow(im)\n",
    "for point in points:\n",
    "    x,y=point\n",
    "    plt.plot(x,y,\"r*\")\n",
    "    \n",
    "plt.show()"
   ]
  },
  {
   "cell_type": "code",
   "execution_count": null,
   "id": "1989a81f-f936-4d8d-bb93-7c03e5995408",
   "metadata": {},
   "outputs": [],
   "source": []
  }
 ],
 "metadata": {
  "kernelspec": {
   "display_name": "Python 3 (ipykernel)",
   "language": "python",
   "name": "python3"
  },
  "language_info": {
   "codemirror_mode": {
    "name": "ipython",
    "version": 3
   },
   "file_extension": ".py",
   "mimetype": "text/x-python",
   "name": "python",
   "nbconvert_exporter": "python",
   "pygments_lexer": "ipython3",
   "version": "3.12.4"
  }
 },
 "nbformat": 4,
 "nbformat_minor": 5
}
