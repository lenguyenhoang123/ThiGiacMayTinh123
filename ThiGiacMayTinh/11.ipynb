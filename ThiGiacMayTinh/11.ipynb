{
 "cells": [
  {
   "cell_type": "code",
   "execution_count": 1,
   "id": "0fe23d50-2b51-479e-b653-2d3890745679",
   "metadata": {},
   "outputs": [
    {
     "name": "stdout",
     "output_type": "stream",
     "text": [
      "[1 2 3 4]\n",
      "2\n"
     ]
    }
   ],
   "source": [
    "import numpy as np\n",
    "#tạo mảng\n",
    "a=np.array([1,2,3,4])\n",
    "\n",
    "#in mảng\n",
    "print(a)\n",
    "#In ra 1 phần tử\n",
    "element=a[1]\n",
    "print(element)"
   ]
  },
  {
   "cell_type": "code",
   "execution_count": 3,
   "id": "5a70faf4-30df-46e1-9e3f-594e20611758",
   "metadata": {},
   "outputs": [
    {
     "name": "stdout",
     "output_type": "stream",
     "text": [
      "Matrix:\n",
      "[[1 2 3]\n",
      " [4 5 6]\n",
      " [7 8 9]]\n",
      "6\n"
     ]
    }
   ],
   "source": [
    "#mảng 2 chiều\n",
    "matrix=np.array([[1,2,3],[4,5,6],[7,8,9]])\n",
    "print(\"Matrix:\")\n",
    "print(matrix)\n",
    "\n",
    "#in ra 1 phần tử\n",
    "element=matrix[1,2]\n",
    "print(element)"
   ]
  },
  {
   "cell_type": "code",
   "execution_count": 7,
   "id": "10ca49f3-c3c5-4041-a6d9-24cee4e46991",
   "metadata": {},
   "outputs": [
    {
     "name": "stdout",
     "output_type": "stream",
     "text": [
      "[0. 0. 0. 0. 0.]\n",
      "[1. 1. 1. 1. 1.]\n",
      "[1. 1. 1. 1. 1.]\n",
      "[ 0  1  2  3  4  5  6  7  8  9 10 11 12 13 14 15 16 17 18 19 20 21 22 23\n",
      " 24 25 26 27 28 29 30 31 32 33 34 35 36 37 38 39 40 41 42 43 44 45 46 47\n",
      " 48 49 50 51 52 53 54 55 56 57 58 59 60 61 62 63 64 65 66 67 68 69 70 71\n",
      " 72 73 74 75 76 77 78 79 80 81 82 83 84 85 86 87 88 89 90 91 92 93 94 95\n",
      " 96 97 98 99]\n",
      "[ 0.   2.5  5.   7.5 10. ]\n"
     ]
    },
    {
     "data": {
      "text/plain": [
       "array([1, 1, 1, 1, 1], dtype=int64)"
      ]
     },
     "execution_count": 7,
     "metadata": {},
     "output_type": "execute_result"
    }
   ],
   "source": [
    "#cách tạo mảng\n",
    "#tạo mảng số 0\n",
    "a=np.zeros(5)\n",
    "print(a)\n",
    "#tạo mảng số 1\n",
    "a=np.ones(5)\n",
    "print(a)\n",
    "#tạo mảng\n",
    "a=np.empty(5)\n",
    "print(a)\n",
    "# mảng từ 0 đên 100\n",
    "a=np.arange(100)\n",
    "print(a)\n",
    "#mảng gồm các phần tử với khoảng cách đều nhau\n",
    "a=np.linspace(0,10,num=5)\n",
    "print(a)\n",
    "# xác định kiểu dữ liệu \n",
    "a=np.ones(5,dtype=np.int64)\n",
    "a"
   ]
  },
  {
   "cell_type": "code",
   "execution_count": 11,
   "id": "3094c5ad-3c44-4488-9914-ae6f86509b2f",
   "metadata": {},
   "outputs": [
    {
     "name": "stdout",
     "output_type": "stream",
     "text": [
      "[3 4 1 2 5]\n",
      "[5 4 3 2 1]\n",
      "[  5   4   3   2   1 100]\n",
      "[  5   4   3   1 100]\n"
     ]
    }
   ],
   "source": [
    "#thêm, xóa,sắp xếp mảng\n",
    "#Tạo mảng ban đầu\n",
    "arr=np.array([3,4,1,2,5])\n",
    "print(arr)\n",
    "#Sắp xếp\n",
    "arr=np.sort(arr)[::-1]\n",
    "print(arr)\n",
    "#Thêm vào mảng\n",
    "arr=np.append(arr,100)\n",
    "print(arr)\n",
    "#xóa 1 vị trí nào đó trong mảng\n",
    "arr=np.delete(arr,3)\n",
    "print(arr)"
   ]
  },
  {
   "cell_type": "code",
   "execution_count": 13,
   "id": "1b31ecb9-ad58-4ca3-a251-a33a237a0cd3",
   "metadata": {},
   "outputs": [
    {
     "name": "stdout",
     "output_type": "stream",
     "text": [
      "[[1 2 3]\n",
      " [4 6 8]\n",
      " [5 7 9]]\n",
      "[[1 2 3]\n",
      " [6 7 4]\n",
      " [9 8 5]]\n"
     ]
    }
   ],
   "source": [
    "# tạo mảng 2 chiều\n",
    "arr=np.array([[1,2,3],\n",
    "             [6,8,4],\n",
    "             [9,7,5]])\n",
    "sap_xep_theo_hang=np.sort(arr,axis=1)#tăng dần\n",
    "print(sap_xep_theo_hang)\n",
    "sap_xep_theo_cot=np.sort(arr,axis=0)#tăng dần\n",
    "print(sap_xep_theo_cot)"
   ]
  },
  {
   "cell_type": "code",
   "execution_count": 17,
   "id": "57f566ef-7721-4471-a93a-97718fac3117",
   "metadata": {},
   "outputs": [
    {
     "name": "stdout",
     "output_type": "stream",
     "text": [
      "[[3 2 1]\n",
      " [8 6 4]\n",
      " [9 7 5]]\n",
      "[[9 8 5]\n",
      " [6 7 4]\n",
      " [1 2 3]]\n"
     ]
    }
   ],
   "source": [
    "# tạo mảng 2 chiều\n",
    "arr=np.array([[1,2,3],\n",
    "             [6,8,4],\n",
    "             [9,7,5]])\n",
    "sap_xep_theo_hang= -np.sort(-arr,axis=1)#giảm dần\n",
    "print(sap_xep_theo_hang)\n",
    "\n",
    "sap_xep_theo_cot= -np.sort(-arr,axis=0)#giảm dần\n",
    "print(sap_xep_theo_cot)"
   ]
  },
  {
   "cell_type": "code",
   "execution_count": 19,
   "id": "11d2369f-4cf1-4213-aaed-e6d4dcf239f6",
   "metadata": {},
   "outputs": [
    {
     "name": "stdout",
     "output_type": "stream",
     "text": [
      "Số chiều: 2\n",
      "Kích thước: 6\n",
      "Hình dạng: (2, 3)\n"
     ]
    }
   ],
   "source": [
    "#Tạo 1 mảng 2D\n",
    "arr=np.array([[1,2,3],[4,5,6]])\n",
    "#sử dụng các thuộc tính để láy thông tin mảng\n",
    "so_chieu=arr.ndim #số chiều (2 chiều)\n",
    "kich_thuoc = arr.size #kich thuoc\n",
    "hinh_dang = arr.shape #hinh dang(số hàng x số cột, (2,3))\n",
    "print(\"Số chiều:\",so_chieu)\n",
    "print(\"Kích thước:\",kich_thuoc)\n",
    "print(\"Hình dạng:\",hinh_dang)"
   ]
  },
  {
   "cell_type": "code",
   "execution_count": 21,
   "id": "342c8a98-e209-49fb-b794-456189177d72",
   "metadata": {},
   "outputs": [
    {
     "name": "stdout",
     "output_type": "stream",
     "text": [
      "[1. 2. 3. 4. 5.]\n"
     ]
    }
   ],
   "source": [
    "# chuyển đổi kiểu dữ liệu\n",
    "arr= np.array([1,2,3,4,5])\n",
    "arr_float = arr.astype(float)\n",
    "print(arr_float)"
   ]
  },
  {
   "cell_type": "code",
   "execution_count": 23,
   "id": "b037ac2c-5097-4c55-be95-e4d182f5bc1c",
   "metadata": {},
   "outputs": [
    {
     "name": "stdout",
     "output_type": "stream",
     "text": [
      "[[1 2 3]\n",
      " [4 5 6]]\n",
      "[[1 2]\n",
      " [3 4]\n",
      " [5 6]]\n"
     ]
    }
   ],
   "source": [
    "#Thay đổi hình dạng của mảng\n",
    "arr= np.array([1,2,3,4,5,6])\n",
    "reshaped_arr= arr.reshape(2,3)\n",
    "print(reshaped_arr)\n",
    "reshaped_arr= arr.reshape(3,2)\n",
    "print(reshaped_arr)"
   ]
  },
  {
   "cell_type": "code",
   "execution_count": 25,
   "id": "4c8b8a1f-efd1-4760-a80b-47c9fd00813b",
   "metadata": {},
   "outputs": [
    {
     "name": "stdout",
     "output_type": "stream",
     "text": [
      "[1 2 3 4 5 6]\n"
     ]
    }
   ],
   "source": [
    "#chuyển về mảng 1 chiều\n",
    "reshaped_arr = reshaped_arr.flatten()\n",
    "print(reshaped_arr)"
   ]
  },
  {
   "cell_type": "code",
   "execution_count": 27,
   "id": "fabab3dd-3c36-4d22-9093-32201d709ee7",
   "metadata": {},
   "outputs": [
    {
     "name": "stdout",
     "output_type": "stream",
     "text": [
      "[2 3 4]\n",
      "[1 2 3 4]\n",
      "[4 5]\n"
     ]
    }
   ],
   "source": [
    "#cắt lát mảng\n",
    "arr= np.array([1,2,3,4,5])\n",
    "sub_arr=arr[1:4]#cắt phần tử từ 1 đến 4\n",
    "print(sub_arr)#2 3 4 5\n",
    "sub_arr= arr[:-1]\n",
    "print(sub_arr)\n",
    "\n",
    "sub_arr= arr[-2:]\n",
    "print(sub_arr)"
   ]
  },
  {
   "cell_type": "code",
   "execution_count": 29,
   "id": "2a549044-376d-4a49-bfcc-d817b8d6cafb",
   "metadata": {},
   "outputs": [
    {
     "name": "stdout",
     "output_type": "stream",
     "text": [
      "[[1 2 3]\n",
      " [4 5 6]]\n",
      "[[1 4]\n",
      " [2 5]\n",
      " [3 6]]\n"
     ]
    }
   ],
   "source": [
    "#chuyển vị mảng\n",
    "arr= np.array([[1,2,3],[4,5,6]])\n",
    "print(arr)\n",
    "#để chuyển vị mảng chúng ta có thể dùng .T hoặc numpy.transpose().\n",
    "transposed_arr=arr.T\n",
    "print(transposed_arr)"
   ]
  },
  {
   "cell_type": "code",
   "execution_count": 31,
   "id": "7a8596f5-617b-4f26-8df2-20709a26593e",
   "metadata": {},
   "outputs": [
    {
     "name": "stdout",
     "output_type": "stream",
     "text": [
      "[1 2 3 4 5 6]\n"
     ]
    }
   ],
   "source": [
    "#nối mảng\n",
    "arr1=np.array([1,2,3])\n",
    "arr2= np.array([4,5,6])\n",
    "arr= np.concatenate((arr1,arr2))\n",
    "print(arr)"
   ]
  },
  {
   "cell_type": "code",
   "execution_count": 35,
   "id": "e978ad74-ee97-48bc-b3a3-63fb687c09ed",
   "metadata": {},
   "outputs": [
    {
     "name": "stdout",
     "output_type": "stream",
     "text": [
      "Tổng của mảng arr: 15\n",
      "Giá trị trung bình của mảng arr: 3.0\n",
      "Giá trị lớn nhất trong mảng arr: 5\n",
      "Giá trị nhỏ nhất trong mảng arr: 1\n",
      "Độ lệch chuẩn của mảng arr: 1.4142135623730951\n",
      "Phương sai của mảng arr: 2.0\n",
      "Tổng tích chập của arr1 và arr2: 32\n"
     ]
    }
   ],
   "source": [
    "#hàm tính tổng (sum)\n",
    "#hàm tính tổng các phần tử trong mảng numpy.sum()\n",
    "arr = np.array([1, 2, 3, 4, 5])\n",
    "total = np.sum(arr)\n",
    "print(\"Tổng của mảng arr:\", total)\n",
    "\n",
    "#hàm tính trung bình(mean)\n",
    "#tính giá trị trung bình của các phần tử trong mảng.numpy.mean()\n",
    "\n",
    "average = np.mean(arr)\n",
    "print(\"Giá trị trung bình của mảng arr:\", average)\n",
    "#Hàm numpy.max() và numpy.min() dùng để tìm giá trị lớn nhất và nhỏ nhất trong mảng.\n",
    "max_value = np.max(arr)\n",
    "min_value = np.min(arr)\n",
    "print(\"Giá trị lớn nhất trong mảng arr:\", max_value)\n",
    "print(\"Giá trị nhỏ nhất trong mảng arr:\", min_value)\n",
    "#Hàm numpy.std() tính độ lệch chuẩn của mảng, đo lường mức độ phân tán của dữ liệu.\n",
    "std_deviation = np.std(arr)\n",
    "print(\"Độ lệch chuẩn của mảng arr:\", std_deviation)\n",
    "#Hàm numpy.var() tính phương sai của mảng, đo lường mức độ biến thiên của dữ liệu.\n",
    "variance = np.var(arr)\n",
    "print(\"Phương sai của mảng arr:\", variance)\n",
    "#Hàm numpy.dot() tính tổng tích chập của hai mảng (vector).\n",
    "arr1 = np.array([1, 2, 3])\n",
    "arr2 = np.array([4, 5, 6])\n",
    "dot_product = np.dot(arr1, arr2)\n",
    "print(\"Tổng tích chập của arr1 và arr2:\", dot_product)\n"
   ]
  },
  {
   "cell_type": "code",
   "execution_count": null,
   "id": "cc8bd485-fad9-4a6f-afe3-3bf660b45d70",
   "metadata": {},
   "outputs": [],
   "source": []
  }
 ],
 "metadata": {
  "kernelspec": {
   "display_name": "Python 3 (ipykernel)",
   "language": "python",
   "name": "python3"
  },
  "language_info": {
   "codemirror_mode": {
    "name": "ipython",
    "version": 3
   },
   "file_extension": ".py",
   "mimetype": "text/x-python",
   "name": "python",
   "nbconvert_exporter": "python",
   "pygments_lexer": "ipython3",
   "version": "3.12.4"
  }
 },
 "nbformat": 4,
 "nbformat_minor": 5
}
