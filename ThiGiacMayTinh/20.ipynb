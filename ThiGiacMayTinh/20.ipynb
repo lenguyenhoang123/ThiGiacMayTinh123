{
 "cells": [
  {
   "cell_type": "code",
   "execution_count": 1,
   "id": "d0b6d440-07af-41df-ae25-28dc37a1e1e9",
   "metadata": {},
   "outputs": [],
   "source": [
    "import cv2\n",
    "import numpy as np"
   ]
  },
  {
   "cell_type": "code",
   "execution_count": 3,
   "id": "620610ad-2d7a-4d74-9d4a-c52ab92589ad",
   "metadata": {},
   "outputs": [],
   "source": [
    "def display(title, img):\n",
    "    cv2.imshow(title, img)\n",
    "    #cho 1 khoang thoi gian\n",
    "    cv2.waitKey(0)\n",
    "    #dong window\n",
    "    cv2.destroyWindow(title)"
   ]
  },
  {
   "cell_type": "code",
   "execution_count": 5,
   "id": "0f6a3e96-5931-42cb-953a-bdedb82d8458",
   "metadata": {},
   "outputs": [],
   "source": [
    "#tạo 1 ảnh\n",
    "img = np.zeros((400,400,3),dtype=np.uint8)\n",
    "display('Image',img)"
   ]
  },
  {
   "cell_type": "code",
   "execution_count": 36,
   "id": "e3adb937-e62d-4a7b-a223-8d012b4f5d64",
   "metadata": {},
   "outputs": [],
   "source": [
    "# Vẽ đường thẳng\n",
    "cv2.line(img, (50, 50) , (350, 200), (3,3,255), 2)\n",
    "display('Image', img)"
   ]
  },
  {
   "cell_type": "code",
   "execution_count": 34,
   "id": "e80a4efe-dafc-4984-a12b-374318b55760",
   "metadata": {},
   "outputs": [],
   "source": [
    "#vẽ hình chử nhật\n",
    "cv2.rectangle(img, (100, 100),(500,300),(255,0,0),2)\n",
    "display('Image',img)"
   ]
  },
  {
   "cell_type": "code",
   "execution_count": null,
   "id": "299d7ac0-39f0-4ada-8d5b-34302534d2df",
   "metadata": {},
   "outputs": [],
   "source": [
    "#Ghi text trên hình ảnh\n",
    "content='Le Nguyen Hoang'\n",
    "font= cv2.FONT_HERSHEY_SIMPLEX\n",
    "cv2.putText(img, content,(10, 380),font, 0.6, (255,255,255),-3)\n",
    "display('Image', img)"
   ]
  },
  {
   "cell_type": "code",
   "execution_count": null,
   "id": "2048b5bc-8519-4c6c-8208-50fc4195163d",
   "metadata": {},
   "outputs": [],
   "source": []
  },
  {
   "cell_type": "code",
   "execution_count": null,
   "id": "106d825a-6295-48f5-9a66-6f70197abcf4",
   "metadata": {},
   "outputs": [],
   "source": []
  }
 ],
 "metadata": {
  "kernelspec": {
   "display_name": "Python 3 (ipykernel)",
   "language": "python",
   "name": "python3"
  },
  "language_info": {
   "codemirror_mode": {
    "name": "ipython",
    "version": 3
   },
   "file_extension": ".py",
   "mimetype": "text/x-python",
   "name": "python",
   "nbconvert_exporter": "python",
   "pygments_lexer": "ipython3",
   "version": "3.12.4"
  }
 },
 "nbformat": 4,
 "nbformat_minor": 5
}
