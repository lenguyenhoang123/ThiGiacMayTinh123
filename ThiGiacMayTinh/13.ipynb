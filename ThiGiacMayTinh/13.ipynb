{
 "cells": [
  {
   "cell_type": "code",
   "execution_count": 5,
   "id": "c2d67251-2431-4498-81e0-dea9cd300952",
   "metadata": {},
   "outputs": [],
   "source": [
    "import numpy as np\n",
    "from PIL import Image\n",
    "import matplotlib.pyplot as plt\n",
    "\n",
    "def histogram_equalization(image, nbr_bins=256):\n",
    "    #đảm bảo hình ảnh đầu vào là xám\n",
    "    if image.mode !='L':\n",
    "        image= image.convert('L')\n",
    "    #Chuyển đổi hình ảnh thành mảng Numpy\n",
    "    image_array= np.array(image)\n",
    "    #Tính toán histogram của ảnh\n",
    "    histogram, bins = np.histogram(image_array, bins=nbr_bins, range=(0, 256), density=true)\n",
    "\n",
    "    #tính toán hàm phân phối tích lũy(CDF- cumulative Distribution Funtion)\n",
    "    cdf = histogram.cumsum()\n",
    "    cdf = 255 * cdf / cdf[-1]\n",
    "    #lấy giá trị mới cho từng pixel dựa trên CDF\n",
    "    image_equalized = np.interp(image_array, bins[:-1], cdf)\n",
    "    #Chuyển đổi mảng kết quả thành hình ảnh\n",
    "    equalized_image = Image.fromarray(image_equalized.astype('uint8'))\n",
    "    return equalized_image"
   ]
  },
  {
   "cell_type": "code",
   "execution_count": null,
   "id": "d86c5176-da51-40df-84f6-863a6f046adb",
   "metadata": {},
   "outputs": [],
   "source": [
    "#Đương dẫn ảnh\n",
    "my_path='C:\\\\ThiGiacMayTinh1\\\\img\\\\anh2.JPG'\n",
    "#Đọc ảnh\n",
    "image = Image.open(my_path)\n",
    "\n",
    "#Áp dụng cân bằng lược đồ ảnh xám\n",
    "equalized_image = histogram_equalization(image)\n",
    "#Tạo 1 lưới 2x2 để hiển thị ảnh và biểu đồ\n",
    "plt.figure(figsize=(15, 10))\n",
    "\n",
    "#Hiển thị ảnh gốc\n",
    "plt.subplot (2, 2, 1)\n",
    "plt.imshow(image.convert(\"L\"),cmap='gray')\n",
    "plt.title('Hình gốc')\n",
    "\n",
    "#Vẽ biểu đồ his của hình gốc\n",
    "plt.subplot(2, 2, 2)\n",
    "plt.hist(np.array(image.convert(\"L\")).flatten(),bins=128)\n",
    "plt.title('Biểu đồ his của ảnh gốc')\n",
    "\n",
    "#Hiển thị ảnh đã cân bằng\n",
    "plt.subplot(2, 2, 3)\n",
    "plt.imshow(equalized_image, cmap='gray')\n",
    "plt.title('Hình đã cân bằng')\n",
    "\n",
    "#Vẽ biểu đồ his của hình đã cân bằng\n",
    "plt.subplot(2, 2, 4)\n",
    "plt.hist(np.array(equalized_image).flatten(),bins=128)\n",
    "plt.title('Biểu đồ his của ảnh đã cân')"
   ]
  }
 ],
 "metadata": {
  "kernelspec": {
   "display_name": "Python 3 (ipykernel)",
   "language": "python",
   "name": "python3"
  },
  "language_info": {
   "codemirror_mode": {
    "name": "ipython",
    "version": 3
   },
   "file_extension": ".py",
   "mimetype": "text/x-python",
   "name": "python",
   "nbconvert_exporter": "python",
   "pygments_lexer": "ipython3",
   "version": "3.12.4"
  }
 },
 "nbformat": 4,
 "nbformat_minor": 5
}
