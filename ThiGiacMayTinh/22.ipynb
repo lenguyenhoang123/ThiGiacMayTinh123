{
 "cells": [
  {
   "cell_type": "code",
   "execution_count": 4,
   "id": "207c1431-ce5d-49e9-91d5-d8630204d847",
   "metadata": {},
   "outputs": [],
   "source": [
    "import cv2\n",
    "import time"
   ]
  },
  {
   "cell_type": "code",
   "execution_count": 7,
   "id": "9d98259d-1e52-4cf6-9d73-8dc4c0ab463a",
   "metadata": {},
   "outputs": [],
   "source": [
    "#doc file video\n",
    "my_video = cv2.VideoCapture('C:\\\\ThiGiacMayTinh1\\\\vdeo.mp4')"
   ]
  },
  {
   "cell_type": "code",
   "execution_count": 10,
   "id": "66ec94f6-bc1b-4c9d-b3b5-3802ec038b5a",
   "metadata": {},
   "outputs": [],
   "source": [
    "#tao cua so de hien thi\n",
    "cv2.namedWindow('Video Player', cv2.WINDOW_NORMAL)"
   ]
  },
  {
   "cell_type": "code",
   "execution_count": 12,
   "id": "672e1967-51d8-4147-9bd8-139bad7e54b5",
   "metadata": {},
   "outputs": [],
   "source": [
    "#ghi text trên hình ảnh\n",
    "font = cv2.FONT_HERSHEY_SIMPLEX\n",
    "font_color = (255,255,255)\n",
    "font_scale = 2\n",
    "font_thicknes = 2"
   ]
  },
  {
   "cell_type": "code",
   "execution_count": 14,
   "id": "a347fa7a-6c02-457b-929d-789c109c6110",
   "metadata": {},
   "outputs": [],
   "source": [
    "#hiện thị từng khung ảnh\n",
    "while True:\n",
    "    #thời gian trước khi đọc\n",
    "    start_time=time.time()\n",
    "    #đọc 1 frame\n",
    "    ret, frame = my_video.read()\n",
    "    #thoat khi kh thể đọc được frame\n",
    "    if not ret:\n",
    "        break\n",
    "    #thời gian trước khi đọc\n",
    "    end_time = time.time()\n",
    "    #tính FPS\n",
    "    fps = 1/(end_time-start_time)\n",
    "    #khi số lượng fps\n",
    "    cv2.putText(frame, f'FPS:{fps:.2f}',(100, 100),font, font_scale, font_color, font_thicknes)\n",
    "    #hiển thị \n",
    "    cv2.imshow('Video Player', frame)\n",
    "    if(cv2.waitKey(10)==ord('q')):\n",
    "        break\n",
    "#Hủy bỏ player\n",
    "my_video.release()\n",
    "cv2.destroyAllWindows()"
   ]
  },
  {
   "cell_type": "code",
   "execution_count": null,
   "id": "15e49016-c609-4fd6-bc7e-86162b72b44d",
   "metadata": {},
   "outputs": [],
   "source": []
  }
 ],
 "metadata": {
  "kernelspec": {
   "display_name": "Python 3 (ipykernel)",
   "language": "python",
   "name": "python3"
  },
  "language_info": {
   "codemirror_mode": {
    "name": "ipython",
    "version": 3
   },
   "file_extension": ".py",
   "mimetype": "text/x-python",
   "name": "python",
   "nbconvert_exporter": "python",
   "pygments_lexer": "ipython3",
   "version": "3.12.4"
  }
 },
 "nbformat": 4,
 "nbformat_minor": 5
}
