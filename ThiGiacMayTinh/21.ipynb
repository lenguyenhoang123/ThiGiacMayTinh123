{
 "cells": [
  {
   "cell_type": "code",
   "execution_count": 20,
   "id": "2bfdc796-6334-47e6-b87a-845ba667a986",
   "metadata": {},
   "outputs": [],
   "source": [
    "import cv2"
   ]
  },
  {
   "cell_type": "code",
   "execution_count": 22,
   "id": "a59a6ef2-9a93-4f84-bc90-1585b370c004",
   "metadata": {},
   "outputs": [],
   "source": [
    "#doc file video\n",
    "my_video = cv2.VideoCapture('C:\\\\ThiGiacMayTinh1\\\\vdeo.mp4')"
   ]
  },
  {
   "cell_type": "code",
   "execution_count": 24,
   "id": "978834b4-9a55-4e29-ac05-29d01194c5a8",
   "metadata": {},
   "outputs": [],
   "source": [
    "#tao cua so de hien thi\n",
    "cv2.namedWindow('Video Player', cv2.WINDOW_NORMAL)"
   ]
  },
  {
   "cell_type": "code",
   "execution_count": 26,
   "id": "b344fb09-6881-4ef7-a32a-09c7af7d3821",
   "metadata": {},
   "outputs": [],
   "source": [
    "# Hiển thị từng khung ảnh\n",
    "while True:\n",
    "    # Đọc 1 frame\n",
    "    ret, frame = my_video.read()\n",
    "    \n",
    "    # Thoát khi không thể đọc được frame\n",
    "    if not ret:\n",
    "        break\n",
    "    \n",
    "    # Hiển thị\n",
    "    cv2.imshow('Video Player', frame)\n",
    "    \n",
    "    if(cv2.waitKey(10)==ord('q')):\n",
    "        break"
   ]
  },
  {
   "cell_type": "code",
   "execution_count": 27,
   "id": "777dd671-dd53-4f81-9251-36c986e74586",
   "metadata": {},
   "outputs": [],
   "source": [
    "#Hủy bỏ player\n",
    "my_video.release\n",
    "cv2.destroyAllWindows()"
   ]
  },
  {
   "cell_type": "code",
   "execution_count": null,
   "id": "c3999538-3e3e-4b22-9ed6-d5bb8189962c",
   "metadata": {},
   "outputs": [],
   "source": []
  }
 ],
 "metadata": {
  "kernelspec": {
   "display_name": "Python 3 (ipykernel)",
   "language": "python",
   "name": "python3"
  },
  "language_info": {
   "codemirror_mode": {
    "name": "ipython",
    "version": 3
   },
   "file_extension": ".py",
   "mimetype": "text/x-python",
   "name": "python",
   "nbconvert_exporter": "python",
   "pygments_lexer": "ipython3",
   "version": "3.12.4"
  }
 },
 "nbformat": 4,
 "nbformat_minor": 5
}
